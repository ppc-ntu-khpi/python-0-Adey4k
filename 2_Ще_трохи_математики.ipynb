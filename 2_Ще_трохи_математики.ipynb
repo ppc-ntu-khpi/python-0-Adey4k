{
  "nbformat": 4,
  "nbformat_minor": 0,
  "metadata": {
    "colab": {
      "name": "2. Ще трохи математики",
      "provenance": [],
      "toc_visible": true
    },
    "kernelspec": {
      "name": "python3",
      "display_name": "Python 3"
    },
    "language_info": {
      "name": "python"
    }
  },
  "cells": [
    {
      "cell_type": "markdown",
      "metadata": {
        "id": "nspjmpTrxgZS"
      },
      "source": [
        "# Ще трохи математики"
      ]
    },
    {
      "cell_type": "markdown",
      "metadata": {
        "id": "9NqHzlZ2xtID"
      },
      "source": [
        "1. Обчисліть радіус кола, знаючи його площу. Нагадаємо формулу:\n",
        "$$\n",
        "  S=\\pi*R^2 => R =\\sqrt{\\frac{S}{\\pi}}\n",
        "$$\n",
        "Для обчислення скористаємось знайомими функціями ```sqrt``` та ```pi``` з пакету ```math```.\n"
      ]
    },
    {
      "cell_type": "code",
      "metadata": {
        "colab": {
          "base_uri": "https://localhost:8080/"
        },
        "id": "csfYPusD0mWX",
        "outputId": "00e97e3d-633d-4d33-ee66-6c091080487d"
      },
      "source": [
        "from math import sqrt,pi\n",
        "S = float(input('Введіть площу кола: '))\n",
        "r = sqrt(S/pi)\n",
        "print ('Радіус дорівнює %6.3f см' %r)"
      ],
      "execution_count": 4,
      "outputs": [
        {
          "output_type": "stream",
          "name": "stdout",
          "text": [
            "Введіть площу кола: 314\n",
            "Радіус дорівнює  9.997 см\n"
          ]
        }
      ]
    },
    {
      "cell_type": "markdown",
      "metadata": {
        "id": "e7Ed3mEp11Rw"
      },
      "source": [
        "2. А тепер за зразком знайдіть в наступній комірці площу сфери та об'єм кулі. Нагадуємо формули:\n",
        "$$\n",
        "  S=4*\\pi*R^2    \n",
        "$$\n",
        "$$\n",
        "  V=\\frac{4}{3}*\\pi*R^3\n",
        "$$\n",
        "Також нагадаємо, що ступінь в Python задається так: ```**```"
      ]
    },
    {
      "cell_type": "code",
      "metadata": {
        "id": "sTFMO4Xp3fgO",
        "outputId": "b208ee87-8acf-4420-e58a-f6dc91f69d1e",
        "colab": {
          "base_uri": "https://localhost:8080/"
        }
      },
      "source": [
        "from math import sqrt,pi\n",
        "r = float(input('Введіть радіус кола: '))\n",
        "S = 4*pi*r**2\n",
        "V = 4/3 * pi * r**3\n",
        "print ('Площа кулі дорівнює %6.3f см' %S,'\\nОб\\'єм кулі дорівнює %6.3f см' %V)\n"
      ],
      "execution_count": 6,
      "outputs": [
        {
          "output_type": "stream",
          "name": "stdout",
          "text": [
            "Введіть радіус кола: 5\n",
            "Площа кулі дорівнює 314.159 см \n",
            "Об'єм кулі дорівнює 523.599 см\n"
          ]
        }
      ]
    },
    {
      "cell_type": "markdown",
      "metadata": {
        "id": "Ki46Slel5ASd"
      },
      "source": [
        "3. А ще давайте переведемо температуру за Фаренгейтом у градуси Цельсія і навпаки. Формули тут надзвичайно прості:\n",
        "$$\n",
        "  C=(F-32)*0.5556\n",
        "$$\n",
        "$$\n",
        "  F=C*1.8+32\n",
        "$$\n",
        "Спробуйте в наступній комірці! Пам'ятайте про \"красиве\" введення і виведення даних."
      ]
    },
    {
      "cell_type": "code",
      "metadata": {
        "id": "8yhfAwYm5E_z",
        "outputId": "325ead15-5c3c-4b83-af49-2ac23f2cfb5c",
        "colab": {
          "base_uri": "https://localhost:8080/"
        }
      },
      "source": [
        "CorF = str(input(\"Введіть 'C' щоб перевести з Цельсія у Фаренгейт, або 'F' щоб навпаки \"))\n",
        "if CorF == 'C' or CorF == 'С':\n",
        "    C = float(input(\"Введіть температуру у градусах цельсія: \"))\n",
        "    F = C * 1.8 + 32\n",
        "    print(f'{C} градусів Цельсія - це {round(F, 1)} градусів за Фаренгейтом')\n",
        "elif CorF == 'F':\n",
        "    F = float(input(\"Введіть температуру у градусах за Фаренгейтом: \"))\n",
        "    C = (F - 32)*0.5556\n",
        "    print(f'{F} градусів за Фаренгейтом - це {round(C, 1)} градусів по Цельсію')\n",
        "else : print(\"Спробуйте ввести 'C' англійсько юабо кирилецею, щоб перевезти з Цельсія, і 'F' щоб з Фарингейту\")"
      ],
      "execution_count": 20,
      "outputs": [
        {
          "output_type": "stream",
          "name": "stdout",
          "text": [
            "Введіть 'C' щоб перевести з Цельсія у Фаренгейт, або 'F', щоб навпаки F\n",
            "Введіть температуру у градусах за Фаренгейтом: 2\n",
            "2.0 градусів за Фаренгейтом - це -16.7 градусів по Цельсію\n"
          ]
        }
      ]
    },
    {
      "cell_type": "markdown",
      "metadata": {
        "id": "rnapogmC6dta"
      },
      "source": [
        "Ще більше простих вправ з Python - [тут](https://www.w3resource.com/python-exercises/python-basic-exercises.php)"
      ]
    }
  ]
}